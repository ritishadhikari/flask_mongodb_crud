{
 "cells": [
  {
   "cell_type": "code",
   "execution_count": 1,
   "metadata": {},
   "outputs": [],
   "source": [
    "from flask import Flask,Response,jsonify,request\n",
    "import json\n",
    "from bson.objectid import ObjectId"
   ]
  },
  {
   "cell_type": "code",
   "execution_count": 2,
   "metadata": {},
   "outputs": [],
   "source": [
    "app=Flask(__name__)"
   ]
  },
  {
   "cell_type": "code",
   "execution_count": 3,
   "metadata": {},
   "outputs": [],
   "source": [
    "#! pip install pymongo"
   ]
  },
  {
   "cell_type": "code",
   "execution_count": 4,
   "metadata": {},
   "outputs": [],
   "source": [
    "import pymongo"
   ]
  },
  {
   "cell_type": "code",
   "execution_count": 5,
   "metadata": {},
   "outputs": [],
   "source": [
    "try: \n",
    "    mongo=pymongo.MongoClient(host=\"localhost\",port=27017,serverSelectionTimeoutMS=1000)\n",
    "    # Company is the name of the database\n",
    "    db=mongo.company\n",
    "    # triggers exception, if cannot be connected to the db.\n",
    "    mongo.server_info()\n",
    "except:\n",
    "    print(\"Error - Cannot connect to DB\")"
   ]
  },
  {
   "cell_type": "code",
   "execution_count": 6,
   "metadata": {},
   "outputs": [],
   "source": [
    "@app.route(\"/users\",methods=['POST'])\n",
    "def create_user():\n",
    "    try:\n",
    "        user={'name':request.form['name'],'lastname': request.form['last']}\n",
    "        \n",
    "        # users is the name of the collection of the database named company\n",
    "        dbResponse=db.users.insert_one(user)\n",
    "        print(dbResponse.inserted_id)\n",
    "    except Exception as ex:\n",
    "        print(ex)\n",
    "    return Response(response=json.dumps({\"message\":\"user created\", \"id\":f\"{dbResponse.inserted_id}\"}),\n",
    "                    status=200,mimetype=\"application/json\")"
   ]
  },
  {
   "cell_type": "code",
   "execution_count": 7,
   "metadata": {},
   "outputs": [],
   "source": [
    "@app.route(\"/users\",methods=['GET'])\n",
    "def get_some_users():\n",
    "    try:\n",
    "        data= db.users.find()\n",
    "        return Response(response=json.dumps({\"message\":f\"{list(data)}\"}),\n",
    "                    status=200,mimetype=\"application/json\")\n",
    "    except Exception as ex:\n",
    "        print(ex)\n",
    "        return Response(response=json.dumps({\"message\":\"Cannot Read Users\"}),\n",
    "                    status=500,mimetype=\"application/json\")"
   ]
  },
  {
   "cell_type": "code",
   "execution_count": 8,
   "metadata": {},
   "outputs": [],
   "source": [
    "@app.route(\"/users/<id>\",methods=[\"PUT\"]) \n",
    "def update_user(id):\n",
    "    try:\n",
    "        dbResponse=db.users.update_one(\n",
    "            {\"_id\":ObjectId(id)},\n",
    "            {\"$set\":{\"name\":request.form[\"name\"]}})\n",
    "        \n",
    "#         for attr in dir(dbResponse):\n",
    "#             print(f\"************{attr}***********\")\n",
    "        \n",
    "        if dbResponse.modified_count:\n",
    "            return Response(response=json.dumps({\"message\":\"User Updated\"}),\n",
    "                        status=200,mimetype=\"application/json\")\n",
    "        else: \n",
    "            return Response(response=json.dumps({\"message\":\"Nothing to Update\"}),\n",
    "                        status=200,mimetype=\"application/json\")\n",
    "    except Exception as ex:\n",
    "        print(\"*\"*50)\n",
    "        print(ex)\n",
    "        print(\"*\"*50)\n",
    "        return Response(response=json.dumps({\"message\":\"Sorry Cannot Update\"}),\n",
    "                    status=200,mimetype=\"application/json\")"
   ]
  },
  {
   "cell_type": "code",
   "execution_count": 9,
   "metadata": {},
   "outputs": [],
   "source": [
    "@app.route(\"/users/<id>\",methods=[\"DELETE\"])\n",
    "def delete_user(id):\n",
    "    try:\n",
    "        dbResponse=db.users.delete_one({\"_id\":ObjectId(id)})\n",
    "#         for attr in dir(dbResponse):\n",
    "#         print(f\"************{attr}***********\")\n",
    "        if dbResponse.deleted_count:\n",
    "            return Response(response=json.dumps({\"message\":\"User Deleted\",\"id\":f\"{id}\"}),\n",
    "                        status=200,mimetype=\"application/json\")\n",
    "        else: \n",
    "            return Response(response=json.dumps({\"message\":\"User Not Found\",\"id\":f\"{id}\"}),\n",
    "                        status=200,mimetype=\"application/json\")\n",
    "\n",
    "    except Exception as ex:\n",
    "        print(\"*\"*50)\n",
    "        print(ex)\n",
    "        print(\"*\"*50)\n",
    "        return Response(response=json.dumps({\"message\":\"Sorry Cannot delete\"}),\n",
    "                    status=500,mimetype=\"application/json\")\n",
    "        "
   ]
  },
  {
   "cell_type": "code",
   "execution_count": 10,
   "metadata": {},
   "outputs": [
    {
     "name": "stdout",
     "output_type": "stream",
     "text": [
      " * Serving Flask app \"__main__\" (lazy loading)\n",
      " * Environment: production\n",
      "   WARNING: Do not use the development server in a production environment.\n",
      "   Use a production WSGI server instead.\n",
      " * Debug mode: off\n"
     ]
    },
    {
     "name": "stderr",
     "output_type": "stream",
     "text": [
      " * Running on http://127.0.0.1:5000/ (Press CTRL+C to quit)\n",
      "127.0.0.1 - - [07/Sep/2020 18:01:20] \"DELETE /users/5f55f6c24e8c1e0361919c45 HTTP/1.1\" 200 -\n"
     ]
    }
   ],
   "source": [
    "if __name__== \"__main__\":\n",
    "    app.run()"
   ]
  },
  {
   "cell_type": "code",
   "execution_count": null,
   "metadata": {},
   "outputs": [],
   "source": []
  },
  {
   "cell_type": "code",
   "execution_count": null,
   "metadata": {},
   "outputs": [],
   "source": []
  }
 ],
 "metadata": {
  "kernelspec": {
   "display_name": "Python 3",
   "language": "python",
   "name": "python3"
  },
  "language_info": {
   "codemirror_mode": {
    "name": "ipython",
    "version": 3
   },
   "file_extension": ".py",
   "mimetype": "text/x-python",
   "name": "python",
   "nbconvert_exporter": "python",
   "pygments_lexer": "ipython3",
   "version": "3.6.9"
  }
 },
 "nbformat": 4,
 "nbformat_minor": 2
}
